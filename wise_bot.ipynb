{
  "nbformat": 4,
  "nbformat_minor": 0,
  "metadata": {
    "colab": {
      "name": "wise_bot.ipynb",
      "provenance": [],
      "collapsed_sections": [],
      "authorship_tag": "ABX9TyOFggaVIEhps611DRDtru/T",
      "include_colab_link": true
    },
    "kernelspec": {
      "name": "python3",
      "display_name": "Python 3"
    },
    "accelerator": "TPU"
  },
  "cells": [
    {
      "cell_type": "markdown",
      "metadata": {
        "id": "view-in-github",
        "colab_type": "text"
      },
      "source": [
        "<a href=\"https://colab.research.google.com/github/AndrewFatula/Movie_revies_Classification/blob/master/wise_bot.ipynb\" target=\"_parent\"><img src=\"https://colab.research.google.com/assets/colab-badge.svg\" alt=\"Open In Colab\"/></a>"
      ]
    },
    {
      "cell_type": "code",
      "metadata": {
        "id": "c1LmNiXZGrOj",
        "colab_type": "code",
        "outputId": "cfd8ca41-0546-4d6f-ffc0-f7dc8ee004e4",
        "colab": {
          "base_uri": "https://localhost:8080/",
          "height": 52
        }
      },
      "source": [
        "import numpy as np\n",
        "import pandas as pd\n",
        "import string\n",
        "import os\n",
        "import sys\n",
        "import time\n",
        "from nltk.tokenize import TweetTokenizer\n",
        "import tensorflow as tf\n",
        "from collections import Counter\n",
        "from matplotlib import pyplot as plt\n",
        "from nltk.translate import bleu_score\n",
        "from keras import regularizers\n",
        "from copy import deepcopy as dc\n",
        "import tensorboardcolab as tb\n",
        "print(tf.__version__)"
      ],
      "execution_count": 0,
      "outputs": [
        {
          "output_type": "stream",
          "text": [
            "2.0.0\n"
          ],
          "name": "stdout"
        },
        {
          "output_type": "stream",
          "text": [
            "Using TensorFlow backend.\n"
          ],
          "name": "stderr"
        }
      ]
    },
    {
      "cell_type": "code",
      "metadata": {
        "id": "ITatQAIWGt2q",
        "colab_type": "code",
        "colab": {}
      },
      "source": [
        "!pip install --upgrade auth\n",
        "!pip uninstall grpcio\n",
        "!pip uninstall tensorflow\n",
        "!pip install grpcio==1.24.3\n",
        "!pip install tensorflow==2.0.0"
      ],
      "execution_count": 0,
      "outputs": []
    },
    {
      "cell_type": "markdown",
      "metadata": {
        "id": "zBc0KRiTeoMJ",
        "colab_type": "text"
      },
      "source": [
        "In order to use google cloud TPUv1 with distributed TPU strategy in eager execution mode we need to reinstall tensorflow 2.0.0 and grpcio 1.24.3"
      ]
    },
    {
      "cell_type": "code",
      "metadata": {
        "id": "y-agojJLll8L",
        "colab_type": "code",
        "colab": {}
      },
      "source": [
        "!pip install -U -q PyDrive\n",
        "from pydrive.auth import GoogleAuth\n",
        "from pydrive.drive import GoogleDrive\n",
        "from google.colab import auth\n",
        "from oauth2client.client import GoogleCredentials\n",
        "\n",
        "auth.authenticate_user()\n",
        "gauth = GoogleAuth()\n",
        "gauth.credentials = GoogleCredentials.get_application_default()\n",
        "drive = GoogleDrive(gauth)"
      ],
      "execution_count": 0,
      "outputs": []
    },
    {
      "cell_type": "markdown",
      "metadata": {
        "id": "5uSn1Ny_fGVj",
        "colab_type": "text"
      },
      "source": [
        "Authentication for transfering data from Google Drive"
      ]
    },
    {
      "cell_type": "code",
      "metadata": {
        "id": "183hew7hG4VO",
        "colab_type": "code",
        "colab": {}
      },
      "source": [
        "downloaded = drive.CreateFile({'id':'17XFYmocGDatGd40cAijhCOkI_zRXN5Mi'}) # all phrases in movies\n",
        "downloaded.GetContentFile('wise_quotes.txt') \n",
        "downloaded = drive.CreateFile({'id':'1Gn8fDg8Yhv8k0AN4XmKt8C9om_RgvyTu'}) # all phrases in movies\n",
        "downloaded.GetContentFile('wise_quotes2.txt') \n",
        "downloaded = drive.CreateFile({'id':'1cibzj_h-IDmoNCYcv9wiOjHFh34XhqzD'}) # all phrases in movies\n",
        "downloaded.GetContentFile('wise_quotes3.txt') \n",
        "downloaded = drive.CreateFile({'id':'1r5SQab9h4f-nyXu8rt-et0iiGdSEJ6rm'}) # all phrases in movies\n",
        "downloaded.GetContentFile('quotes.csv') \n",
        "downloaded = drive.CreateFile({'id':'1yNvbktnsPaqG7OkEfhyxV-yrI2TiP-PD'}) # all phrases in movies\n",
        "downloaded.GetContentFile('bible_quotes.csv') \n"
      ],
      "execution_count": 0,
      "outputs": []
    },
    {
      "cell_type": "markdown",
      "metadata": {
        "id": "OY-1lxB5fMKL",
        "colab_type": "text"
      },
      "source": [
        "Transering needed data from Google drive"
      ]
    },
    {
      "cell_type": "code",
      "metadata": {
        "id": "mR2_aBefG9X-",
        "colab_type": "code",
        "outputId": "28d22c09-950f-4d06-b739-e6998947a838",
        "colab": {
          "base_uri": "https://localhost:8080/",
          "height": 763
        }
      },
      "source": [
        "\n",
        "\n",
        "\n",
        "if 'COLAB_TPU_ADDR' not in os.environ:\n",
        "  print('ERROR: Not connected to a TPU runtime; please see the first cell in this notebook for instructions!')\n",
        "else:\n",
        "  tpu_address = 'grpc://' + os.environ['COLAB_TPU_ADDR']\n",
        "  print ('TPU address iis', tpu_address)\n",
        "\n",
        "\n",
        "cluster_resolver = tf.distribute.cluster_resolver.TPUClusterResolver(\n",
        "    tpu=tpu_address)\n",
        "tf.config.experimental_connect_to_cluster(cluster_resolver)\n",
        "tf.tpu.experimental.initialize_tpu_system(cluster_resolver)\n",
        "tpu_strategy = tf.distribute.experimental.TPUStrategy(cluster_resolver)\n",
        "\n",
        "print ('Number of devices: {}'.format(tpu_strategy.num_replicas_in_sync))\n"
      ],
      "execution_count": 0,
      "outputs": [
        {
          "output_type": "stream",
          "text": [
            "TPU address iis grpc://10.18.84.2:8470\n",
            "INFO:tensorflow:Initializing the TPU system: 10.18.84.2:8470\n"
          ],
          "name": "stdout"
        },
        {
          "output_type": "stream",
          "text": [
            "INFO:tensorflow:Initializing the TPU system: 10.18.84.2:8470\n"
          ],
          "name": "stderr"
        },
        {
          "output_type": "stream",
          "text": [
            "INFO:tensorflow:Clearing out eager caches\n"
          ],
          "name": "stdout"
        },
        {
          "output_type": "stream",
          "text": [
            "INFO:tensorflow:Clearing out eager caches\n"
          ],
          "name": "stderr"
        },
        {
          "output_type": "stream",
          "text": [
            "INFO:tensorflow:Finished initializing TPU system.\n"
          ],
          "name": "stdout"
        },
        {
          "output_type": "stream",
          "text": [
            "INFO:tensorflow:Finished initializing TPU system.\n"
          ],
          "name": "stderr"
        },
        {
          "output_type": "stream",
          "text": [
            "INFO:tensorflow:Found TPU system:\n"
          ],
          "name": "stdout"
        },
        {
          "output_type": "stream",
          "text": [
            "INFO:tensorflow:Found TPU system:\n"
          ],
          "name": "stderr"
        },
        {
          "output_type": "stream",
          "text": [
            "INFO:tensorflow:*** Num TPU Cores: 8\n"
          ],
          "name": "stdout"
        },
        {
          "output_type": "stream",
          "text": [
            "INFO:tensorflow:*** Num TPU Cores: 8\n"
          ],
          "name": "stderr"
        },
        {
          "output_type": "stream",
          "text": [
            "INFO:tensorflow:*** Num TPU Workers: 1\n"
          ],
          "name": "stdout"
        },
        {
          "output_type": "stream",
          "text": [
            "INFO:tensorflow:*** Num TPU Workers: 1\n"
          ],
          "name": "stderr"
        },
        {
          "output_type": "stream",
          "text": [
            "INFO:tensorflow:*** Num TPU Cores Per Worker: 8\n"
          ],
          "name": "stdout"
        },
        {
          "output_type": "stream",
          "text": [
            "INFO:tensorflow:*** Num TPU Cores Per Worker: 8\n"
          ],
          "name": "stderr"
        },
        {
          "output_type": "stream",
          "text": [
            "INFO:tensorflow:*** Available Device: _DeviceAttributes(/job:localhost/replica:0/task:0/device:CPU:0, CPU, 0, 0)\n"
          ],
          "name": "stdout"
        },
        {
          "output_type": "stream",
          "text": [
            "INFO:tensorflow:*** Available Device: _DeviceAttributes(/job:localhost/replica:0/task:0/device:CPU:0, CPU, 0, 0)\n"
          ],
          "name": "stderr"
        },
        {
          "output_type": "stream",
          "text": [
            "INFO:tensorflow:*** Available Device: _DeviceAttributes(/job:localhost/replica:0/task:0/device:XLA_CPU:0, XLA_CPU, 0, 0)\n"
          ],
          "name": "stdout"
        },
        {
          "output_type": "stream",
          "text": [
            "INFO:tensorflow:*** Available Device: _DeviceAttributes(/job:localhost/replica:0/task:0/device:XLA_CPU:0, XLA_CPU, 0, 0)\n"
          ],
          "name": "stderr"
        },
        {
          "output_type": "stream",
          "text": [
            "INFO:tensorflow:*** Available Device: _DeviceAttributes(/job:worker/replica:0/task:0/device:CPU:0, CPU, 0, 0)\n"
          ],
          "name": "stdout"
        },
        {
          "output_type": "stream",
          "text": [
            "INFO:tensorflow:*** Available Device: _DeviceAttributes(/job:worker/replica:0/task:0/device:CPU:0, CPU, 0, 0)\n"
          ],
          "name": "stderr"
        },
        {
          "output_type": "stream",
          "text": [
            "INFO:tensorflow:*** Available Device: _DeviceAttributes(/job:worker/replica:0/task:0/device:TPU:0, TPU, 0, 0)\n"
          ],
          "name": "stdout"
        },
        {
          "output_type": "stream",
          "text": [
            "INFO:tensorflow:*** Available Device: _DeviceAttributes(/job:worker/replica:0/task:0/device:TPU:0, TPU, 0, 0)\n"
          ],
          "name": "stderr"
        },
        {
          "output_type": "stream",
          "text": [
            "INFO:tensorflow:*** Available Device: _DeviceAttributes(/job:worker/replica:0/task:0/device:TPU:1, TPU, 0, 0)\n"
          ],
          "name": "stdout"
        },
        {
          "output_type": "stream",
          "text": [
            "INFO:tensorflow:*** Available Device: _DeviceAttributes(/job:worker/replica:0/task:0/device:TPU:1, TPU, 0, 0)\n"
          ],
          "name": "stderr"
        },
        {
          "output_type": "stream",
          "text": [
            "INFO:tensorflow:*** Available Device: _DeviceAttributes(/job:worker/replica:0/task:0/device:TPU:2, TPU, 0, 0)\n"
          ],
          "name": "stdout"
        },
        {
          "output_type": "stream",
          "text": [
            "INFO:tensorflow:*** Available Device: _DeviceAttributes(/job:worker/replica:0/task:0/device:TPU:2, TPU, 0, 0)\n"
          ],
          "name": "stderr"
        },
        {
          "output_type": "stream",
          "text": [
            "INFO:tensorflow:*** Available Device: _DeviceAttributes(/job:worker/replica:0/task:0/device:TPU:3, TPU, 0, 0)\n"
          ],
          "name": "stdout"
        },
        {
          "output_type": "stream",
          "text": [
            "INFO:tensorflow:*** Available Device: _DeviceAttributes(/job:worker/replica:0/task:0/device:TPU:3, TPU, 0, 0)\n"
          ],
          "name": "stderr"
        },
        {
          "output_type": "stream",
          "text": [
            "INFO:tensorflow:*** Available Device: _DeviceAttributes(/job:worker/replica:0/task:0/device:TPU:4, TPU, 0, 0)\n"
          ],
          "name": "stdout"
        },
        {
          "output_type": "stream",
          "text": [
            "INFO:tensorflow:*** Available Device: _DeviceAttributes(/job:worker/replica:0/task:0/device:TPU:4, TPU, 0, 0)\n"
          ],
          "name": "stderr"
        },
        {
          "output_type": "stream",
          "text": [
            "INFO:tensorflow:*** Available Device: _DeviceAttributes(/job:worker/replica:0/task:0/device:TPU:5, TPU, 0, 0)\n"
          ],
          "name": "stdout"
        },
        {
          "output_type": "stream",
          "text": [
            "INFO:tensorflow:*** Available Device: _DeviceAttributes(/job:worker/replica:0/task:0/device:TPU:5, TPU, 0, 0)\n"
          ],
          "name": "stderr"
        },
        {
          "output_type": "stream",
          "text": [
            "INFO:tensorflow:*** Available Device: _DeviceAttributes(/job:worker/replica:0/task:0/device:TPU:6, TPU, 0, 0)\n"
          ],
          "name": "stdout"
        },
        {
          "output_type": "stream",
          "text": [
            "INFO:tensorflow:*** Available Device: _DeviceAttributes(/job:worker/replica:0/task:0/device:TPU:6, TPU, 0, 0)\n"
          ],
          "name": "stderr"
        },
        {
          "output_type": "stream",
          "text": [
            "INFO:tensorflow:*** Available Device: _DeviceAttributes(/job:worker/replica:0/task:0/device:TPU:7, TPU, 0, 0)\n"
          ],
          "name": "stdout"
        },
        {
          "output_type": "stream",
          "text": [
            "INFO:tensorflow:*** Available Device: _DeviceAttributes(/job:worker/replica:0/task:0/device:TPU:7, TPU, 0, 0)\n"
          ],
          "name": "stderr"
        },
        {
          "output_type": "stream",
          "text": [
            "INFO:tensorflow:*** Available Device: _DeviceAttributes(/job:worker/replica:0/task:0/device:TPU_SYSTEM:0, TPU_SYSTEM, 0, 0)\n"
          ],
          "name": "stdout"
        },
        {
          "output_type": "stream",
          "text": [
            "INFO:tensorflow:*** Available Device: _DeviceAttributes(/job:worker/replica:0/task:0/device:TPU_SYSTEM:0, TPU_SYSTEM, 0, 0)\n"
          ],
          "name": "stderr"
        },
        {
          "output_type": "stream",
          "text": [
            "INFO:tensorflow:*** Available Device: _DeviceAttributes(/job:worker/replica:0/task:0/device:XLA_CPU:0, XLA_CPU, 0, 0)\n"
          ],
          "name": "stdout"
        },
        {
          "output_type": "stream",
          "text": [
            "INFO:tensorflow:*** Available Device: _DeviceAttributes(/job:worker/replica:0/task:0/device:XLA_CPU:0, XLA_CPU, 0, 0)\n"
          ],
          "name": "stderr"
        },
        {
          "output_type": "stream",
          "text": [
            "Number of devices: 8\n"
          ],
          "name": "stdout"
        }
      ]
    },
    {
      "cell_type": "markdown",
      "metadata": {
        "id": "tUiEiXodfTAV",
        "colab_type": "text"
      },
      "source": [
        "Initializing available TPU devices and defining TPU_Distributed_strategy"
      ]
    },
    {
      "cell_type": "code",
      "metadata": {
        "id": "50N32vjplsOb",
        "colab_type": "code",
        "colab": {}
      },
      "source": [
        "MAX_QUOTE_LENGTH = 30\n",
        "MIN_QUOTE_LENGTH = 5\n",
        "MIN_TOKEN_FREQ = 5\n",
        "QUOTES_FILES = [\"wise_quotes.txt\", \"wise_quotes2.txt\", \"wise_quotes3.txt\", \"quotes.csv\", \"bible_quotes.csv\"]\n",
        "\n",
        "\n",
        "def read_quotes(quotes_files):\n",
        "\n",
        "    \"\"\" Function that reads all the data  (philosophical quotes from txt files, \n",
        "        bible quotes from csv file and philosophical quotes from csv file)\n",
        "    \"\"\"\n",
        "\n",
        "    print(\"Reading quotes...\")\n",
        "\n",
        "    lengths = []\n",
        "    tokenized_lines = []\n",
        "    freq_count = Counter()\n",
        "    tokenizer = TweetTokenizer()\n",
        "\n",
        "    #reading data from csv file\n",
        "    additional_quotes = list(pd.read_csv(quotes_files[3], sep = \",\")[\"quote\"])\n",
        "    bible_quotes = list(pd.read_csv(quotes_files[4], sep = \",\")[\"english\"])\n",
        "\n",
        "    #reading data from txt files\n",
        "    for quotes_file in quotes_files[:3]:\n",
        "        with open(quotes_file, \"r\") as quotes_lines:\n",
        "            for line in quotes_lines:\n",
        "                line = line.lower()\n",
        "                tokenized = tokenizer.tokenize(line)\n",
        "                if len(tokenized) < MAX_QUOTE_LENGTH + 1 and len(tokenized) > MIN_TOKEN_FREQ:\n",
        "                    freq_count.update(tokenized)\n",
        "                    tokenized_lines.append(tokenized)\n",
        "\n",
        "    #tokenization of all readed string lines\n",
        "    for line in additional_quotes + bible_quotes:\n",
        "        line = line.lower()\n",
        "        line = line.strip('\"')\n",
        "        line = line.strip(\"'\")\n",
        "        tokenized = tokenizer.tokenize(line)\n",
        "        if len(tokenized) < MAX_QUOTE_LENGTH + 1 and len(tokenized) > MIN_TOKEN_FREQ:\n",
        "            freq_count.update(tokenized)\n",
        "            tokenized_lines.append(tokenized)\n",
        "\n",
        "    #construction of words dictionary\n",
        "    word_set = list(map( lambda x: '+' + x[0] if x[1] >= MIN_TOKEN_FREQ else '-' + x[0], freq_count.items() ))\n",
        "    word_dict = {\"EMPTY\":0, \"BEGIN\":1, \"END\" : 2}\n",
        "    i = 3\n",
        "    for word in word_set:\n",
        "        if word[0] == \"+\":\n",
        "            word_dict[word[1:]] = i\n",
        "            i+=1\n",
        "\n",
        "    #filtering all tokenized quotes (leaving ones with known words)\n",
        "    quotes_tokens = []\n",
        "    for quote in tokenized_lines:\n",
        "        tokens = []\n",
        "        for word in quote:\n",
        "            if word in word_dict.keys():\n",
        "                tokens.append(word_dict[word])\n",
        "            else:\n",
        "                tokens.append(word_dict[\"EMPTY\"])\n",
        "        if not word_dict[\"EMPTY\"] in tokens:\n",
        "            tokens = [word_dict[\"BEGIN\"]] + tokens + [word_dict[\"END\"]]\n",
        "            quotes_tokens.append(tokens)\n",
        "            lengths.append(len(tokens))\n",
        "\n",
        "    print(\"Quotes are read and tokenized...\")\n",
        "    return quotes_tokens, word_dict, lengths\n"
      ],
      "execution_count": 0,
      "outputs": []
    },
    {
      "cell_type": "code",
      "metadata": {
        "id": "mp18SFEqluG3",
        "colab_type": "code",
        "outputId": "d638be9b-150f-4bc2-8b8a-e33b211bac85",
        "colab": {
          "base_uri": "https://localhost:8080/",
          "height": 87
        }
      },
      "source": [
        "\n",
        "\n",
        "\n",
        "\n",
        "tokenized_lines, word_dict, true_lengths = read_quotes(QUOTES_FILES)\n",
        "\n",
        "quotes_width = int(max(true_lengths))\n",
        "sparse_quotes = np.zeros((len(true_lengths), quotes_width))\n",
        "quotes_length = len(true_lengths) \n",
        "\n",
        "inverse_word_dict = {}\n",
        "for key in word_dict.keys():\n",
        "    inverse_word_dict[word_dict[key]] = key\n",
        "\n",
        "#padding each sequence in x_data and y_data\n",
        "for i in range(quotes_length):\n",
        "    sparse_quotes[i, : true_lengths[i]] = np.array(tokenized_lines[i])\n",
        "\n",
        "unique_tokens = np.unique(sparse_quotes)\n",
        "\n",
        "transfer_tokens = {}\n",
        "transfer_dict = {}\n",
        "for i in range(len(unique_tokens)):\n",
        "    transfer_tokens[unique_tokens[i]] = i\n",
        "    transfer_dict[inverse_word_dict[unique_tokens[i]]] = i\n",
        "\n",
        "inverse_word_dict = {}\n",
        "\n",
        "for key in transfer_dict.keys():\n",
        "    inverse_word_dict[transfer_dict[key]] = key\n",
        "\n",
        "word_dict = transfer_dict\n",
        "\n",
        "for i in range(quotes_length):\n",
        "    for j in range(quotes_width):\n",
        "        sparse_quotes[i,j] = transfer_tokens[sparse_quotes[i,j]]\n",
        "\n",
        "\n",
        "true_lengths = tf.convert_to_tensor(true_lengths, dtype = tf.float32)\n",
        "sparse_quotes = tf.convert_to_tensor(sparse_quotes, dtype = tf.float32)\n",
        "\n",
        "print(\"Dictionary_size: \", len(word_dict))\n",
        "print(\"N of tokenized_quotes:\", len(tokenized_lines))\n"
      ],
      "execution_count": 0,
      "outputs": [
        {
          "output_type": "stream",
          "text": [
            "Reading quotes...\n",
            "Quotes are read and tokenized...\n",
            "Dictionary_size:  22134\n",
            "N of tokenized_quotes: 256487\n"
          ],
          "name": "stdout"
        }
      ]
    },
    {
      "cell_type": "markdown",
      "metadata": {
        "id": "NinKyn7mciaN",
        "colab_type": "text"
      },
      "source": [
        "Code above padds all word tokens and converts them to tensorflow arrays"
      ]
    },
    {
      "cell_type": "code",
      "metadata": {
        "id": "IAUhWd7SlwBZ",
        "colab_type": "code",
        "colab": {}
      },
      "source": [
        "with tpu_strategy.scope():\n",
        "\n",
        "\n",
        "    class Phrase_model(tf.keras.Model):\n",
        "\n",
        "        ''' inherited from tf.keras.model class simle seq2seq model class with one embedding layer, 2 recurrent layers and two dense layers  '''\n",
        "\n",
        "        def __init__( self, hidden_size, emb_size, random_size, quote_len,\n",
        "                      word_dict, inverse_word_dict ):\n",
        "\n",
        "            super(Phrase_model, self).__init__()\n",
        "            self.dict_size = len(word_dict)\n",
        "            self.hidden_size = hidden_size\n",
        "            self.emb_size = emb_size\n",
        "            self.quote_len = quote_len\n",
        "            self.word_dict = word_dict\n",
        "            self.inverse_word_dict = inverse_word_dict\n",
        "\n",
        "            self.emb_layer = tf.keras.layers.Embedding(self.dict_size, emb_size)\n",
        "    \n",
        "            self.generator = tf.keras.layers.LSTM( units = hidden_size, recurrent_activation = \"sigmoid\",\n",
        "                                               kernel_regularizer=regularizers.l2(0.003), \n",
        "                                               recurrent_regularizer=regularizers.l2(0.003),\n",
        "                                               bias_regularizer=regularizers.l2(0.003),\n",
        "                                               dropout = 0.05, recurrent_dropout = 0.01, \n",
        "                                               return_state = True, return_sequences = True, unroll = True )\n",
        "            \n",
        "            self.interpreter = tf.keras.layers.Dense(self.dict_size)\n",
        "\n",
        "            \n",
        "        def generate_sequence_teacher(self, true_sequences):\n",
        "\n",
        "            ''' method for training seq2seq with teacher \n",
        "                witch takes as argument encoded hidden state from x_input sequence\n",
        "            '''\n",
        "            emb_sequences = self.emb_layer(true_sequences)\n",
        "\n",
        "            output, _, _ = self.generator(emb_sequences)\n",
        "            #output, _ = self.generator(emb_sequences)\n",
        "            return self.interpreter(output)\n",
        "\n",
        "\n",
        "\n"
      ],
      "execution_count": 0,
      "outputs": []
    },
    {
      "cell_type": "markdown",
      "metadata": {
        "id": "IyN25JUsc6_k",
        "colab_type": "text"
      },
      "source": [
        "In code above you can see Pharse_model class used for training Hidden Markov Chain, subclassed from tf.keras.Model class."
      ]
    },
    {
      "cell_type": "code",
      "metadata": {
        "id": "H8KMGs5ElydZ",
        "colab_type": "code",
        "colab": {}
      },
      "source": [
        "with tpu_strategy.scope():\n",
        "\n",
        "    def compute_loss( labels, generated_output, semihot_sequences ):\n",
        "\n",
        "        ''' cross_entropy_loss function for distributed strategy'''\n",
        "\n",
        "        per_example_loss = loss_object(labels, generated_output) * semihot_sequences\n",
        "        return tf.nn.compute_average_loss(per_example_loss , global_batch_size=BATCH_SIZE)\n",
        "\n",
        "\n",
        "    @tf.function\n",
        "    def teacher_train_step(inputs):\n",
        "\n",
        "        ''' train_step1 fuction for crossentropy teacher training method \n",
        "            of training LSTM cell, that will be crucial in construction Hidden Markov Chain\n",
        "        '''\n",
        "\n",
        "        true_sequences = inputs[0]\n",
        "        true_semihot = inputs[1]\n",
        "\n",
        "        with tf.GradientTape() as tape:\n",
        "            generated_output = seq2seq.generate_sequence_teacher(true_sequences[:, :-1])\n",
        "            loss = compute_loss(true_sequences[:, 1:], generated_output, true_semihot[:, 1:])\n",
        "        gradients = tape.gradient(loss, seq2seq.trainable_variables)\n",
        "        optimizer1.apply_gradients(zip(gradients, seq2seq.trainable_variables))\n",
        "        return loss\n",
        "\n",
        "\n",
        "\n",
        "    def distributed_teacher_train_step(dataset_inputs):\n",
        "\n",
        "        ''' function that applies distriuted TPU strategy to train_step2 function'''\n",
        "\n",
        "        per_replica_losses = tpu_strategy.experimental_run_v2(teacher_train_step,\n",
        "                                                            args=(dataset_inputs,))\n",
        "        return tpu_strategy.reduce(tf.distribute.ReduceOp.SUM, per_replica_losses,\n",
        "                                                    axis=None)\n",
        "\n",
        "\n"
      ],
      "execution_count": 0,
      "outputs": []
    },
    {
      "cell_type": "markdown",
      "metadata": {
        "id": "kjOy-5WoddVb",
        "colab_type": "text"
      },
      "source": [
        "In code above are defined distributed_train_step function decorated with @tf.fucntion for construction static computation graph in order to gain all benefits of using Google cloud TPU V1 and distrivuted tpu_strategy. "
      ]
    },
    {
      "cell_type": "code",
      "metadata": {
        "id": "N3UpJ-pRl07g",
        "colab_type": "code",
        "colab": {}
      },
      "source": [
        "with tpu_strategy.scope():\n",
        "\n",
        "    def main_training_loop(train_dist_dataset, teacher_ptob, crossentropy_losses):\n",
        "\n",
        "        ''' training function for crossentropy training loop\n",
        "        '''\n",
        "        for x in train_dist_dataset:\n",
        "            loss = distributed_teacher_train_step(x)\n",
        "            crossentropy_losses.append(loss)\n",
        "\n",
        "            "
      ],
      "execution_count": 0,
      "outputs": []
    },
    {
      "cell_type": "markdown",
      "metadata": {
        "id": "zdjsO86qd9gv",
        "colab_type": "text"
      },
      "source": [
        "Above is defined function to perform training loop"
      ]
    },
    {
      "cell_type": "code",
      "metadata": {
        "id": "XXOZTlkll3Xg",
        "colab_type": "code",
        "outputId": "311c3b13-5585-4b86-c783-149fe7d0145c",
        "colab": {
          "base_uri": "https://localhost:8080/",
          "height": 1000
        }
      },
      "source": [
        "EMBEDDING_SIZE = 128\n",
        "RANDOM_SIZE = 128\n",
        "HIDDEN_SIZE = 2048\n",
        "BATCH_SIZE = 8192\n",
        "\n",
        "N_EPOCHS = 100\n",
        "\n",
        "tf.get_logger().setLevel('ERROR')\n",
        "tf.autograph.set_verbosity(1)\n",
        "\n",
        "with tpu_strategy.scope():\n",
        "\n",
        "\tdict_size = len(word_dict)\n",
        "\tseq2seq = Phrase_model( HIDDEN_SIZE, EMBEDDING_SIZE, RANDOM_SIZE, MAX_QUOTE_LENGTH + 2,\n",
        "\t                word_dict, inverse_word_dict )\n",
        "\n",
        "\n",
        "\ttrain_length = np.shape(sparse_quotes)[0]\n",
        "\ttrain_steps = int(train_length/BATCH_SIZE)\n",
        "\n",
        "\tmean_crossentropy_losses = []\n",
        "\tmean_discriminator_losses = []\n",
        "\tmean_generator_losses = []\n",
        "\n",
        "\tLEARNING_RATE = tf.keras.optimizers.schedules.ExponentialDecay(0.001, decay_steps = train_steps, decay_rate = 0.95, staircase= True)  \n",
        "\tloss_object = tf.keras.losses.SparseCategoricalCrossentropy(from_logits = True, reduction=tf.keras.losses.Reduction.NONE)\n",
        "\toptimizer1 = tf.keras.optimizers.Adam(learning_rate=LEARNING_RATE)\n",
        "\n",
        "\n",
        "\n",
        "\tprint(\"start training ... \")\n",
        "\tfor epoch in range(N_EPOCHS):\n",
        "\t\tepoch_start = time.localtime(time.time())\n",
        "\n",
        "\t\t\n",
        "\t\tcrossentropy_losses = []\n",
        "\n",
        "\t\ttrue_semihot = tf.ones((train_length, MAX_QUOTE_LENGTH + 2), dtype = tf.float32) * tf.range(1, MAX_QUOTE_LENGTH + 3, dtype = tf.float32)[None, :]\n",
        "\t\ttrue_semihot = tf.where(true_semihot <= true_lengths[ :, None], 1., 0.)\n",
        "\t\ttrue_semihot = tf.cast(true_semihot, tf.float32)\n",
        "\n",
        "\t\tdataset = tf.data.Dataset.from_tensor_slices((sparse_quotes, true_semihot)).shuffle(150000).batch(BATCH_SIZE, drop_remainder = True) \n",
        "\t\ttrain_dist_dataset = tpu_strategy.experimental_distribute_dataset(dataset)\n",
        "\n",
        "\t\tmain_training_loop(train_dist_dataset, teacher_prob, crossentropy_losses)\n",
        "\n",
        "\t\tepoch_end = time.localtime(time.time())\n",
        "\t\tstart_in_sec = epoch_start[3]*3600 + epoch_start[4]*60 + epoch_start[5]\n",
        "\t\tend_in_sec = epoch_end[3]*3600 + epoch_end[4]*60 + epoch_end[5]\n",
        "\t\tepoch_time = end_in_sec - start_in_sec\n",
        "\n",
        "\n",
        "\t\tcrossentropy_loss = np.mean(crossentropy_losses)\n",
        "\t\tmean_crossentropy_losses.append(crossentropy_loss)\n",
        "\n",
        "\t\tprint( \"Epoch: \", epoch, \", loss:\", crossentropy_loss, \"Teacher_prob: \", teacher_prob,\n",
        "\t\t\t\t\t\", time: \", epoch_time ,\" sec \"  )\n",
        "\n",
        "\t\t\n",
        "\n",
        "\n",
        "\n",
        "\t\t\n",
        "\n",
        "\n",
        "\t\t\t\t\n",
        "\t\t\n",
        "\n"
      ],
      "execution_count": 0,
      "outputs": [
        {
          "output_type": "stream",
          "text": [
            "start training ... \n",
            "Epoch:  0 , loss: 15.786491 Teacher_prob:  1 , time:  38  sec \n",
            "Epoch:  1 , loss: 15.142873 Teacher_prob:  1 , time:  23  sec \n",
            "Epoch:  2 , loss: 15.01017 Teacher_prob:  1 , time:  23  sec \n",
            "Epoch:  3 , loss: 14.937063 Teacher_prob:  1 , time:  23  sec \n",
            "Epoch:  4 , loss: 14.883511 Teacher_prob:  1 , time:  23  sec \n",
            "Epoch:  5 , loss: 14.841157 Teacher_prob:  1 , time:  23  sec \n",
            "Epoch:  6 , loss: 14.804003 Teacher_prob:  1 , time:  22  sec \n",
            "Epoch:  7 , loss: 14.77085 Teacher_prob:  1 , time:  23  sec \n",
            "Epoch:  8 , loss: 14.73738 Teacher_prob:  1 , time:  23  sec \n",
            "Epoch:  9 , loss: 14.707952 Teacher_prob:  1 , time:  23  sec \n",
            "Epoch:  10 , loss: 14.680026 Teacher_prob:  1 , time:  23  sec \n",
            "Epoch:  11 , loss: 14.655442 Teacher_prob:  1 , time:  22  sec \n",
            "Epoch:  12 , loss: 14.629939 Teacher_prob:  1 , time:  23  sec \n",
            "Epoch:  13 , loss: 14.608069 Teacher_prob:  1 , time:  23  sec \n",
            "Epoch:  14 , loss: 14.586387 Teacher_prob:  1 , time:  23  sec \n",
            "Epoch:  15 , loss: 14.566985 Teacher_prob:  1 , time:  23  sec \n",
            "Epoch:  16 , loss: 14.548858 Teacher_prob:  1 , time:  22  sec \n",
            "Epoch:  17 , loss: 14.530775 Teacher_prob:  1 , time:  23  sec \n",
            "Epoch:  18 , loss: 14.515153 Teacher_prob:  1 , time:  23  sec \n",
            "Epoch:  19 , loss: 14.498131 Teacher_prob:  1 , time:  23  sec \n",
            "Epoch:  20 , loss: 14.483783 Teacher_prob:  1 , time:  23  sec \n",
            "Epoch:  21 , loss: 14.469545 Teacher_prob:  1 , time:  22  sec \n",
            "Epoch:  22 , loss: 14.45643 Teacher_prob:  1 , time:  23  sec \n",
            "Epoch:  23 , loss: 14.444648 Teacher_prob:  1 , time:  23  sec \n",
            "Epoch:  24 , loss: 14.43218 Teacher_prob:  1 , time:  23  sec \n",
            "Epoch:  25 , loss: 14.421263 Teacher_prob:  1 , time:  23  sec \n",
            "Epoch:  26 , loss: 14.411096 Teacher_prob:  1 , time:  22  sec \n",
            "Epoch:  27 , loss: 14.400289 Teacher_prob:  1 , time:  23  sec \n",
            "Epoch:  28 , loss: 14.389426 Teacher_prob:  1 , time:  23  sec \n",
            "Epoch:  29 , loss: 14.38119 Teacher_prob:  1 , time:  23  sec \n",
            "Epoch:  30 , loss: 14.372435 Teacher_prob:  1 , time:  23  sec \n",
            "Epoch:  31 , loss: 14.362799 Teacher_prob:  1 , time:  22  sec \n",
            "Epoch:  32 , loss: 14.356068 Teacher_prob:  1 , time:  22  sec \n",
            "Epoch:  33 , loss: 14.347804 Teacher_prob:  1 , time:  23  sec \n",
            "Epoch:  34 , loss: 14.339562 Teacher_prob:  1 , time:  23  sec \n",
            "Epoch:  35 , loss: 14.332039 Teacher_prob:  1 , time:  23  sec \n",
            "Epoch:  36 , loss: 14.326163 Teacher_prob:  1 , time:  22  sec \n",
            "Epoch:  37 , loss: 14.3188505 Teacher_prob:  1 , time:  23  sec \n",
            "Epoch:  38 , loss: 14.311999 Teacher_prob:  1 , time:  23  sec \n",
            "Epoch:  39 , loss: 14.306617 Teacher_prob:  1 , time:  23  sec \n",
            "Epoch:  40 , loss: 14.301487 Teacher_prob:  1 , time:  23  sec \n",
            "Epoch:  41 , loss: 14.295931 Teacher_prob:  1 , time:  23  sec \n",
            "Epoch:  42 , loss: 14.291011 Teacher_prob:  1 , time:  22  sec \n",
            "Epoch:  43 , loss: 14.286053 Teacher_prob:  1 , time:  23  sec \n",
            "Epoch:  44 , loss: 14.281193 Teacher_prob:  1 , time:  23  sec \n",
            "Epoch:  45 , loss: 14.276401 Teacher_prob:  1 , time:  23  sec \n",
            "Epoch:  46 , loss: 14.271893 Teacher_prob:  1 , time:  23  sec \n",
            "Epoch:  47 , loss: 14.268782 Teacher_prob:  1 , time:  23  sec \n",
            "Epoch:  48 , loss: 14.263909 Teacher_prob:  1 , time:  22  sec \n",
            "Epoch:  49 , loss: 14.260121 Teacher_prob:  1 , time:  23  sec \n",
            "Epoch:  50 , loss: 14.2569275 Teacher_prob:  1 , time:  23  sec \n",
            "Epoch:  51 , loss: 14.253389 Teacher_prob:  1 , time:  23  sec \n",
            "Epoch:  52 , loss: 14.249349 Teacher_prob:  1 , time:  23  sec \n",
            "Epoch:  53 , loss: 14.247286 Teacher_prob:  1 , time:  22  sec \n",
            "Epoch:  54 , loss: 14.244251 Teacher_prob:  1 , time:  23  sec \n",
            "Epoch:  55 , loss: 14.240566 Teacher_prob:  1 , time:  23  sec \n",
            "Epoch:  56 , loss: 14.237828 Teacher_prob:  1 , time:  23  sec \n",
            "Epoch:  57 , loss: 14.235148 Teacher_prob:  1 , time:  25  sec \n",
            "Epoch:  58 , loss: 14.232218 Teacher_prob:  1 , time:  22  sec \n",
            "Epoch:  59 , loss: 14.2304125 Teacher_prob:  1 , time:  23  sec \n",
            "Epoch:  60 , loss: 14.227309 Teacher_prob:  1 , time:  23  sec \n",
            "Epoch:  61 , loss: 14.225448 Teacher_prob:  1 , time:  23  sec \n",
            "Epoch:  62 , loss: 14.224213 Teacher_prob:  1 , time:  23  sec \n",
            "Epoch:  63 , loss: 14.22183 Teacher_prob:  1 , time:  22  sec \n",
            "Epoch:  64 , loss: 14.220086 Teacher_prob:  1 , time:  23  sec \n",
            "Epoch:  65 , loss: 14.218741 Teacher_prob:  1 , time:  23  sec \n"
          ],
          "name": "stdout"
        },
        {
          "output_type": "error",
          "ename": "KeyboardInterrupt",
          "evalue": "ignored",
          "traceback": [
            "\u001b[0;31m---------------------------------------------------------------------------\u001b[0m",
            "\u001b[0;31mKeyboardInterrupt\u001b[0m                         Traceback (most recent call last)",
            "\u001b[0;32m<ipython-input-70-705b3627c32b>\u001b[0m in \u001b[0;36m<module>\u001b[0;34m()\u001b[0m\n\u001b[1;32m     78\u001b[0m                 \u001b[0;32mif\u001b[0m \u001b[0mis_main_training_loop\u001b[0m\u001b[0;34m:\u001b[0m\u001b[0;34m\u001b[0m\u001b[0;34m\u001b[0m\u001b[0m\n\u001b[1;32m     79\u001b[0m \u001b[0;34m\u001b[0m\u001b[0m\n\u001b[0;32m---> 80\u001b[0;31m                         \u001b[0mmain_training_loop\u001b[0m\u001b[0;34m(\u001b[0m\u001b[0mtrain_dist_dataset\u001b[0m\u001b[0;34m,\u001b[0m \u001b[0mteacher_prob\u001b[0m\u001b[0;34m,\u001b[0m \u001b[0mcrossentropy_losses\u001b[0m\u001b[0;34m)\u001b[0m\u001b[0;34m\u001b[0m\u001b[0;34m\u001b[0m\u001b[0m\n\u001b[0m\u001b[1;32m     81\u001b[0m \u001b[0;34m\u001b[0m\u001b[0m\n\u001b[1;32m     82\u001b[0m                 \u001b[0;32melse\u001b[0m\u001b[0;34m:\u001b[0m\u001b[0;34m\u001b[0m\u001b[0;34m\u001b[0m\u001b[0m\n",
            "\u001b[0;32m<ipython-input-69-627dbad8f2d4>\u001b[0m in \u001b[0;36mmain_training_loop\u001b[0;34m(train_dist_dataset, teacher_ptob, generator_losses)\u001b[0m\n\u001b[1;32m      7\u001b[0m         \u001b[0;32mfor\u001b[0m \u001b[0mx\u001b[0m \u001b[0;32min\u001b[0m \u001b[0mtrain_dist_dataset\u001b[0m\u001b[0;34m:\u001b[0m\u001b[0;34m\u001b[0m\u001b[0;34m\u001b[0m\u001b[0m\n\u001b[1;32m      8\u001b[0m             \u001b[0;32mif\u001b[0m \u001b[0mnp\u001b[0m\u001b[0;34m.\u001b[0m\u001b[0mrandom\u001b[0m\u001b[0;34m.\u001b[0m\u001b[0mrand\u001b[0m\u001b[0;34m(\u001b[0m\u001b[0;34m)\u001b[0m \u001b[0;34m<\u001b[0m \u001b[0mteacher_prob\u001b[0m\u001b[0;34m:\u001b[0m\u001b[0;34m\u001b[0m\u001b[0;34m\u001b[0m\u001b[0m\n\u001b[0;32m----> 9\u001b[0;31m                 \u001b[0mloss\u001b[0m \u001b[0;34m=\u001b[0m \u001b[0mdistributed_teacher_train_step\u001b[0m\u001b[0;34m(\u001b[0m\u001b[0mx\u001b[0m\u001b[0;34m)\u001b[0m\u001b[0;34m\u001b[0m\u001b[0;34m\u001b[0m\u001b[0m\n\u001b[0m\u001b[1;32m     10\u001b[0m             \u001b[0;32melse\u001b[0m\u001b[0;34m:\u001b[0m\u001b[0;34m\u001b[0m\u001b[0;34m\u001b[0m\u001b[0m\n\u001b[1;32m     11\u001b[0m                 \u001b[0mloss2\u001b[0m \u001b[0;34m=\u001b[0m \u001b[0mdistributed_chain_train_step\u001b[0m\u001b[0;34m(\u001b[0m\u001b[0mx\u001b[0m\u001b[0;34m)\u001b[0m\u001b[0;34m\u001b[0m\u001b[0;34m\u001b[0m\u001b[0m\n",
            "\u001b[0;32m<ipython-input-68-f8ec247b781e>\u001b[0m in \u001b[0;36mdistributed_teacher_train_step\u001b[0;34m(dataset_inputs)\u001b[0m\n\u001b[1;32m    123\u001b[0m \u001b[0;34m\u001b[0m\u001b[0m\n\u001b[1;32m    124\u001b[0m         per_replica_losses = tpu_strategy.experimental_run_v2(teacher_train_step,\n\u001b[0;32m--> 125\u001b[0;31m                                                             args=(dataset_inputs,))\n\u001b[0m\u001b[1;32m    126\u001b[0m         return tpu_strategy.reduce(tf.distribute.ReduceOp.SUM, per_replica_losses,\n\u001b[1;32m    127\u001b[0m                                                     axis=None)\n",
            "\u001b[0;32m/usr/local/lib/python3.6/dist-packages/tensorflow_core/python/distribute/tpu_strategy.py\u001b[0m in \u001b[0;36mexperimental_run_v2\u001b[0;34m(self, fn, args, kwargs)\u001b[0m\n\u001b[1;32m    109\u001b[0m     \u001b[0;31m# so autograph is on by default here.\u001b[0m\u001b[0;34m\u001b[0m\u001b[0;34m\u001b[0m\u001b[0;34m\u001b[0m\u001b[0m\n\u001b[1;32m    110\u001b[0m     \u001b[0mfn\u001b[0m \u001b[0;34m=\u001b[0m \u001b[0mautograph\u001b[0m\u001b[0;34m.\u001b[0m\u001b[0mtf_convert\u001b[0m\u001b[0;34m(\u001b[0m\u001b[0mfn\u001b[0m\u001b[0;34m,\u001b[0m \u001b[0mag_ctx\u001b[0m\u001b[0;34m.\u001b[0m\u001b[0mcontrol_status_ctx\u001b[0m\u001b[0;34m(\u001b[0m\u001b[0;34m)\u001b[0m\u001b[0;34m)\u001b[0m\u001b[0;34m\u001b[0m\u001b[0;34m\u001b[0m\u001b[0m\n\u001b[0;32m--> 111\u001b[0;31m     \u001b[0;32mreturn\u001b[0m \u001b[0mself\u001b[0m\u001b[0;34m.\u001b[0m\u001b[0mextended\u001b[0m\u001b[0;34m.\u001b[0m\u001b[0mtpu_run\u001b[0m\u001b[0;34m(\u001b[0m\u001b[0mfn\u001b[0m\u001b[0;34m,\u001b[0m \u001b[0margs\u001b[0m\u001b[0;34m,\u001b[0m \u001b[0mkwargs\u001b[0m\u001b[0;34m)\u001b[0m\u001b[0;34m\u001b[0m\u001b[0;34m\u001b[0m\u001b[0m\n\u001b[0m\u001b[1;32m    112\u001b[0m \u001b[0;34m\u001b[0m\u001b[0m\n\u001b[1;32m    113\u001b[0m \u001b[0;34m\u001b[0m\u001b[0m\n",
            "\u001b[0;32m/usr/local/lib/python3.6/dist-packages/tensorflow_core/python/distribute/tpu_strategy.py\u001b[0m in \u001b[0;36mtpu_run\u001b[0;34m(self, fn, args, kwargs)\u001b[0m\n\u001b[1;32m    615\u001b[0m   \u001b[0;32mdef\u001b[0m \u001b[0mtpu_run\u001b[0m\u001b[0;34m(\u001b[0m\u001b[0mself\u001b[0m\u001b[0;34m,\u001b[0m \u001b[0mfn\u001b[0m\u001b[0;34m,\u001b[0m \u001b[0margs\u001b[0m\u001b[0;34m,\u001b[0m \u001b[0mkwargs\u001b[0m\u001b[0;34m)\u001b[0m\u001b[0;34m:\u001b[0m\u001b[0;34m\u001b[0m\u001b[0;34m\u001b[0m\u001b[0m\n\u001b[1;32m    616\u001b[0m     \u001b[0mfunc\u001b[0m \u001b[0;34m=\u001b[0m \u001b[0mself\u001b[0m\u001b[0;34m.\u001b[0m\u001b[0m_tpu_function_creator\u001b[0m\u001b[0;34m(\u001b[0m\u001b[0mfn\u001b[0m\u001b[0;34m)\u001b[0m\u001b[0;34m\u001b[0m\u001b[0;34m\u001b[0m\u001b[0m\n\u001b[0;32m--> 617\u001b[0;31m     \u001b[0;32mreturn\u001b[0m \u001b[0mfunc\u001b[0m\u001b[0;34m(\u001b[0m\u001b[0margs\u001b[0m\u001b[0;34m,\u001b[0m \u001b[0mkwargs\u001b[0m\u001b[0;34m)\u001b[0m\u001b[0;34m\u001b[0m\u001b[0;34m\u001b[0m\u001b[0m\n\u001b[0m\u001b[1;32m    618\u001b[0m \u001b[0;34m\u001b[0m\u001b[0m\n\u001b[1;32m    619\u001b[0m   \u001b[0;32mdef\u001b[0m \u001b[0m_tpu_function_creator\u001b[0m\u001b[0;34m(\u001b[0m\u001b[0mself\u001b[0m\u001b[0;34m,\u001b[0m \u001b[0mfn\u001b[0m\u001b[0;34m)\u001b[0m\u001b[0;34m:\u001b[0m\u001b[0;34m\u001b[0m\u001b[0;34m\u001b[0m\u001b[0m\n",
            "\u001b[0;32m/usr/local/lib/python3.6/dist-packages/tensorflow_core/python/eager/def_function.py\u001b[0m in \u001b[0;36m__call__\u001b[0;34m(self, *args, **kwds)\u001b[0m\n\u001b[1;32m    455\u001b[0m \u001b[0;34m\u001b[0m\u001b[0m\n\u001b[1;32m    456\u001b[0m     \u001b[0mtracing_count\u001b[0m \u001b[0;34m=\u001b[0m \u001b[0mself\u001b[0m\u001b[0;34m.\u001b[0m\u001b[0m_get_tracing_count\u001b[0m\u001b[0;34m(\u001b[0m\u001b[0;34m)\u001b[0m\u001b[0;34m\u001b[0m\u001b[0;34m\u001b[0m\u001b[0m\n\u001b[0;32m--> 457\u001b[0;31m     \u001b[0mresult\u001b[0m \u001b[0;34m=\u001b[0m \u001b[0mself\u001b[0m\u001b[0;34m.\u001b[0m\u001b[0m_call\u001b[0m\u001b[0;34m(\u001b[0m\u001b[0;34m*\u001b[0m\u001b[0margs\u001b[0m\u001b[0;34m,\u001b[0m \u001b[0;34m**\u001b[0m\u001b[0mkwds\u001b[0m\u001b[0;34m)\u001b[0m\u001b[0;34m\u001b[0m\u001b[0;34m\u001b[0m\u001b[0m\n\u001b[0m\u001b[1;32m    458\u001b[0m     \u001b[0;32mif\u001b[0m \u001b[0mtracing_count\u001b[0m \u001b[0;34m==\u001b[0m \u001b[0mself\u001b[0m\u001b[0;34m.\u001b[0m\u001b[0m_get_tracing_count\u001b[0m\u001b[0;34m(\u001b[0m\u001b[0;34m)\u001b[0m\u001b[0;34m:\u001b[0m\u001b[0;34m\u001b[0m\u001b[0;34m\u001b[0m\u001b[0m\n\u001b[1;32m    459\u001b[0m       \u001b[0mself\u001b[0m\u001b[0;34m.\u001b[0m\u001b[0m_call_counter\u001b[0m\u001b[0;34m.\u001b[0m\u001b[0mcalled_without_tracing\u001b[0m\u001b[0;34m(\u001b[0m\u001b[0;34m)\u001b[0m\u001b[0;34m\u001b[0m\u001b[0;34m\u001b[0m\u001b[0m\n",
            "\u001b[0;32m/usr/local/lib/python3.6/dist-packages/tensorflow_core/python/eager/def_function.py\u001b[0m in \u001b[0;36m_call\u001b[0;34m(self, *args, **kwds)\u001b[0m\n\u001b[1;32m    492\u001b[0m       \u001b[0;31m# In this case we have not created variables on the first call. So we can\u001b[0m\u001b[0;34m\u001b[0m\u001b[0;34m\u001b[0m\u001b[0;34m\u001b[0m\u001b[0m\n\u001b[1;32m    493\u001b[0m       \u001b[0;31m# run the first trace but we should fail if variables are created.\u001b[0m\u001b[0;34m\u001b[0m\u001b[0;34m\u001b[0m\u001b[0;34m\u001b[0m\u001b[0m\n\u001b[0;32m--> 494\u001b[0;31m       \u001b[0mresults\u001b[0m \u001b[0;34m=\u001b[0m \u001b[0mself\u001b[0m\u001b[0;34m.\u001b[0m\u001b[0m_stateful_fn\u001b[0m\u001b[0;34m(\u001b[0m\u001b[0;34m*\u001b[0m\u001b[0margs\u001b[0m\u001b[0;34m,\u001b[0m \u001b[0;34m**\u001b[0m\u001b[0mkwds\u001b[0m\u001b[0;34m)\u001b[0m\u001b[0;34m\u001b[0m\u001b[0;34m\u001b[0m\u001b[0m\n\u001b[0m\u001b[1;32m    495\u001b[0m       \u001b[0;32mif\u001b[0m \u001b[0mself\u001b[0m\u001b[0;34m.\u001b[0m\u001b[0m_created_variables\u001b[0m\u001b[0;34m:\u001b[0m\u001b[0;34m\u001b[0m\u001b[0;34m\u001b[0m\u001b[0m\n\u001b[1;32m    496\u001b[0m         raise ValueError(\"Creating variables on a non-first call to a function\"\n",
            "\u001b[0;32m/usr/local/lib/python3.6/dist-packages/tensorflow_core/python/eager/function.py\u001b[0m in \u001b[0;36m__call__\u001b[0;34m(self, *args, **kwargs)\u001b[0m\n\u001b[1;32m   1821\u001b[0m     \u001b[0;34m\"\"\"Calls a graph function specialized to the inputs.\"\"\"\u001b[0m\u001b[0;34m\u001b[0m\u001b[0;34m\u001b[0m\u001b[0m\n\u001b[1;32m   1822\u001b[0m     \u001b[0mgraph_function\u001b[0m\u001b[0;34m,\u001b[0m \u001b[0margs\u001b[0m\u001b[0;34m,\u001b[0m \u001b[0mkwargs\u001b[0m \u001b[0;34m=\u001b[0m \u001b[0mself\u001b[0m\u001b[0;34m.\u001b[0m\u001b[0m_maybe_define_function\u001b[0m\u001b[0;34m(\u001b[0m\u001b[0margs\u001b[0m\u001b[0;34m,\u001b[0m \u001b[0mkwargs\u001b[0m\u001b[0;34m)\u001b[0m\u001b[0;34m\u001b[0m\u001b[0;34m\u001b[0m\u001b[0m\n\u001b[0;32m-> 1823\u001b[0;31m     \u001b[0;32mreturn\u001b[0m \u001b[0mgraph_function\u001b[0m\u001b[0;34m.\u001b[0m\u001b[0m_filtered_call\u001b[0m\u001b[0;34m(\u001b[0m\u001b[0margs\u001b[0m\u001b[0;34m,\u001b[0m \u001b[0mkwargs\u001b[0m\u001b[0;34m)\u001b[0m  \u001b[0;31m# pylint: disable=protected-access\u001b[0m\u001b[0;34m\u001b[0m\u001b[0;34m\u001b[0m\u001b[0m\n\u001b[0m\u001b[1;32m   1824\u001b[0m \u001b[0;34m\u001b[0m\u001b[0m\n\u001b[1;32m   1825\u001b[0m   \u001b[0;34m@\u001b[0m\u001b[0mproperty\u001b[0m\u001b[0;34m\u001b[0m\u001b[0;34m\u001b[0m\u001b[0m\n",
            "\u001b[0;32m/usr/local/lib/python3.6/dist-packages/tensorflow_core/python/eager/function.py\u001b[0m in \u001b[0;36m_filtered_call\u001b[0;34m(self, args, kwargs)\u001b[0m\n\u001b[1;32m   1139\u001b[0m          if isinstance(t, (ops.Tensor,\n\u001b[1;32m   1140\u001b[0m                            resource_variable_ops.BaseResourceVariable))),\n\u001b[0;32m-> 1141\u001b[0;31m         self.captured_inputs)\n\u001b[0m\u001b[1;32m   1142\u001b[0m \u001b[0;34m\u001b[0m\u001b[0m\n\u001b[1;32m   1143\u001b[0m   \u001b[0;32mdef\u001b[0m \u001b[0m_call_flat\u001b[0m\u001b[0;34m(\u001b[0m\u001b[0mself\u001b[0m\u001b[0;34m,\u001b[0m \u001b[0margs\u001b[0m\u001b[0;34m,\u001b[0m \u001b[0mcaptured_inputs\u001b[0m\u001b[0;34m,\u001b[0m \u001b[0mcancellation_manager\u001b[0m\u001b[0;34m=\u001b[0m\u001b[0;32mNone\u001b[0m\u001b[0;34m)\u001b[0m\u001b[0;34m:\u001b[0m\u001b[0;34m\u001b[0m\u001b[0;34m\u001b[0m\u001b[0m\n",
            "\u001b[0;32m/usr/local/lib/python3.6/dist-packages/tensorflow_core/python/eager/function.py\u001b[0m in \u001b[0;36m_call_flat\u001b[0;34m(self, args, captured_inputs, cancellation_manager)\u001b[0m\n\u001b[1;32m   1222\u001b[0m     \u001b[0;32mif\u001b[0m \u001b[0mexecuting_eagerly\u001b[0m\u001b[0;34m:\u001b[0m\u001b[0;34m\u001b[0m\u001b[0;34m\u001b[0m\u001b[0m\n\u001b[1;32m   1223\u001b[0m       flat_outputs = forward_function.call(\n\u001b[0;32m-> 1224\u001b[0;31m           ctx, args, cancellation_manager=cancellation_manager)\n\u001b[0m\u001b[1;32m   1225\u001b[0m     \u001b[0;32melse\u001b[0m\u001b[0;34m:\u001b[0m\u001b[0;34m\u001b[0m\u001b[0;34m\u001b[0m\u001b[0m\n\u001b[1;32m   1226\u001b[0m       \u001b[0mgradient_name\u001b[0m \u001b[0;34m=\u001b[0m \u001b[0mself\u001b[0m\u001b[0;34m.\u001b[0m\u001b[0m_delayed_rewrite_functions\u001b[0m\u001b[0;34m.\u001b[0m\u001b[0mregister\u001b[0m\u001b[0;34m(\u001b[0m\u001b[0;34m)\u001b[0m\u001b[0;34m\u001b[0m\u001b[0;34m\u001b[0m\u001b[0m\n",
            "\u001b[0;32m/usr/local/lib/python3.6/dist-packages/tensorflow_core/python/eager/function.py\u001b[0m in \u001b[0;36mcall\u001b[0;34m(self, ctx, args, cancellation_manager)\u001b[0m\n\u001b[1;32m    509\u001b[0m               \u001b[0minputs\u001b[0m\u001b[0;34m=\u001b[0m\u001b[0margs\u001b[0m\u001b[0;34m,\u001b[0m\u001b[0;34m\u001b[0m\u001b[0;34m\u001b[0m\u001b[0m\n\u001b[1;32m    510\u001b[0m               \u001b[0mattrs\u001b[0m\u001b[0;34m=\u001b[0m\u001b[0;34m(\u001b[0m\u001b[0;34m\"executor_type\"\u001b[0m\u001b[0;34m,\u001b[0m \u001b[0mexecutor_type\u001b[0m\u001b[0;34m,\u001b[0m \u001b[0;34m\"config_proto\"\u001b[0m\u001b[0;34m,\u001b[0m \u001b[0mconfig\u001b[0m\u001b[0;34m)\u001b[0m\u001b[0;34m,\u001b[0m\u001b[0;34m\u001b[0m\u001b[0;34m\u001b[0m\u001b[0m\n\u001b[0;32m--> 511\u001b[0;31m               ctx=ctx)\n\u001b[0m\u001b[1;32m    512\u001b[0m         \u001b[0;32melse\u001b[0m\u001b[0;34m:\u001b[0m\u001b[0;34m\u001b[0m\u001b[0;34m\u001b[0m\u001b[0m\n\u001b[1;32m    513\u001b[0m           outputs = execute.execute_with_cancellation(\n",
            "\u001b[0;32m/usr/local/lib/python3.6/dist-packages/tensorflow_core/python/eager/execute.py\u001b[0m in \u001b[0;36mquick_execute\u001b[0;34m(op_name, num_outputs, inputs, attrs, ctx, name)\u001b[0m\n\u001b[1;32m     59\u001b[0m     tensors = pywrap_tensorflow.TFE_Py_Execute(ctx._handle, device_name,\n\u001b[1;32m     60\u001b[0m                                                \u001b[0mop_name\u001b[0m\u001b[0;34m,\u001b[0m \u001b[0minputs\u001b[0m\u001b[0;34m,\u001b[0m \u001b[0mattrs\u001b[0m\u001b[0;34m,\u001b[0m\u001b[0;34m\u001b[0m\u001b[0;34m\u001b[0m\u001b[0m\n\u001b[0;32m---> 61\u001b[0;31m                                                num_outputs)\n\u001b[0m\u001b[1;32m     62\u001b[0m   \u001b[0;32mexcept\u001b[0m \u001b[0mcore\u001b[0m\u001b[0;34m.\u001b[0m\u001b[0m_NotOkStatusException\u001b[0m \u001b[0;32mas\u001b[0m \u001b[0me\u001b[0m\u001b[0;34m:\u001b[0m\u001b[0;34m\u001b[0m\u001b[0;34m\u001b[0m\u001b[0m\n\u001b[1;32m     63\u001b[0m     \u001b[0;32mif\u001b[0m \u001b[0mname\u001b[0m \u001b[0;32mis\u001b[0m \u001b[0;32mnot\u001b[0m \u001b[0;32mNone\u001b[0m\u001b[0;34m:\u001b[0m\u001b[0;34m\u001b[0m\u001b[0;34m\u001b[0m\u001b[0m\n",
            "\u001b[0;31mKeyboardInterrupt\u001b[0m: "
          ]
        }
      ]
    },
    {
      "cell_type": "markdown",
      "metadata": {
        "id": "HEyg19GDeEyv",
        "colab_type": "text"
      },
      "source": [
        "Above is defined main training Cycle for training Hidden Markov Chain on philosophical and bible quotes. "
      ]
    },
    {
      "cell_type": "markdown",
      "metadata": {
        "id": "5J14CE4EgRed",
        "colab_type": "text"
      },
      "source": [
        "In code below you can see results of training LSTM cell and some interesting stuff about how Hidden Markov Chains work."
      ]
    },
    {
      "cell_type": "code",
      "metadata": {
        "id": "-NQxpiTPxX6C",
        "colab_type": "code",
        "outputId": "da67b78d-c783-4116-a424-91abb100be6f",
        "colab": {
          "base_uri": "https://localhost:8080/",
          "height": 1000
        }
      },
      "source": [
        "with tf.device(\"cpu\"):\n",
        "\n",
        "    \n",
        "    generated_sequence, _ = seq2seq.generate_sequence(30,1)\n",
        "\n",
        "    generated_sequence = generated_sequence.numpy()\n",
        "\n",
        "    for idx in range(30):\n",
        "        print(\"\\n\")\n",
        "        text_recreated = \"\"\n",
        "        for token in generated_sequence[idx]:\n",
        "            if token == 2:\n",
        "                break\n",
        "            text_recreated += inverse_word_dict[token] + \" \"\n",
        "\n",
        "        print(text_recreated)\n"
      ],
      "execution_count": 0,
      "outputs": [
        {
          "output_type": "stream",
          "text": [
            "\n",
            "\n",
            "he who has a why to live can bear almost any how . \n",
            "\n",
            "\n",
            "we are all born for love . it is the principle of existence , and its only end . \n",
            "\n",
            "\n",
            "it's not the end of the road , it's just the end of the road work . \n",
            "\n",
            "\n",
            "what is the point of having a civilization , if we do not practice being civilized ! \n",
            "\n",
            "\n",
            "i am a great believer in luck , and i find the harder i work the more i have of it . \n",
            "\n",
            "\n",
            "the only thing that makes life possible is permanent , intolerable uncertainty : not knowing what comes next . \n",
            "\n",
            "\n",
            "we are all born for love . it is the principle of existence , and its only end . \n",
            "\n",
            "\n",
            "every man is a damn fool for at least five minutes every day wisdom consists in not exceeding the limit . \n",
            "\n",
            "\n",
            "pain is a part of life . i hated that fact . i would be much happier without it but then it wouldn't be my life . \n",
            "\n",
            "\n",
            "everybody has a dream , to make that dream a reality , one must work hard . \n",
            "\n",
            "\n",
            "eternity is a long time to spend alone , without others of your kind . \n",
            "\n",
            "\n",
            "it's not the end of the road , it's just the end of the road work . \n",
            "\n",
            "\n",
            "that is the difference between good teachers and great teachers : good teachers make the best of a pupil's means great teachers foresee a pupil's ends . \n",
            "\n",
            "\n",
            "every man is a damn fool for at least five minutes every day wisdom consists in not exceeding the limit . \n",
            "\n",
            "\n",
            "to be a success , follow your obsessions obsessively . \n",
            "\n",
            "\n",
            "the only thing that makes life possible is permanent , intolerable uncertainty : not knowing what comes next . \n",
            "\n",
            "\n",
            "a man who is not afraid is not aggressive , a man who has no sense of fear of any kind is really a free , a peaceful man . \n",
            "\n",
            "\n",
            "leaders are visionaries with a poorly developed sense of fear and no concept of the odds against them . they make the impossible happen . \n",
            "\n",
            "\n",
            "his eyes are so clear and blue that nothing but clichés enter my mind . \n",
            "\n",
            "\n",
            "i am a great believer in luck , and i find the harder i work the more i have of it . \n",
            "\n",
            "\n",
            "happiness is a choice . happiness does not depend on outward conditions but on inward decisions . \n",
            "\n",
            "\n",
            "no one can be a better you than you . therefore , striving continuously to become a better you is the only path to your greatness . \n",
            "\n",
            "\n",
            "i am a great believer in luck , and i find the harder i work the more i have of it . \n",
            "\n",
            "\n",
            "he who has a why to live can bear almost any how . \n",
            "\n",
            "\n",
            "heat roared within him . greedy heat . he wanted her ... she was in over her head , and it seemed ... so was he . \n",
            "\n",
            "\n",
            "i am a great believer in luck , and i find the harder i work the more i have of it . \n",
            "\n",
            "\n",
            "it is not the size of the ring , but the size of the love . \n",
            "\n",
            "\n",
            "the only thing that makes life possible is permanent , intolerable uncertainty : not knowing what comes next . \n",
            "\n",
            "\n",
            "a man who is not afraid is not aggressive , a man who has no sense of fear of any kind is really a free , a peaceful man . \n",
            "\n",
            "\n",
            "i am a great believer in luck , and i find the harder i work the more i have of it . \n"
          ],
          "name": "stdout"
        }
      ]
    },
    {
      "cell_type": "code",
      "metadata": {
        "id": "l-Xqb77YhWBe",
        "colab_type": "code",
        "outputId": "ee3301ed-7ddd-49a4-b146-470d783db8a5",
        "colab": {
          "base_uri": "https://localhost:8080/",
          "height": 1000
        }
      },
      "source": [
        "with tf.device(\"cpu\"):\n",
        "\n",
        "    \n",
        "    generated_sequence, _ = seq2seq.generate_sequence(30,7)\n",
        "\n",
        "    generated_sequence = generated_sequence.numpy()\n",
        "\n",
        "    for idx in range(30):\n",
        "        print(\"\\n\")\n",
        "        text_recreated = \"\"\n",
        "        for token in generated_sequence[idx]:\n",
        "            if token == 2:\n",
        "                break\n",
        "            text_recreated += inverse_word_dict[token] + \" \"\n",
        "\n",
        "        print(text_recreated)\n",
        "\n",
        "    "
      ],
      "execution_count": 0,
      "outputs": [
        {
          "output_type": "stream",
          "text": [
            "\n",
            "\n",
            "i am a great believer in luck , and i find the harder i work the more i have of it . \n",
            "\n",
            "\n",
            "travel is the best teacher . the only way to an open mind is by taking a plane out into the open world . \n",
            "\n",
            "\n",
            "that was the thing about weddings : they forced family members to deal with one another , like it or not . \n",
            "\n",
            "\n",
            "you can ’ t get the taste of winning in a running competition with a turtle ! \n",
            "\n",
            "\n",
            "no one can be a better you than you . therefore , striving continuously to become a better you is the only path to your greatness . \n",
            "\n",
            "\n",
            "my dad was a big frank zappa fan , so i remember listening to a lot of frank zappa . girls do not like frank zappa . \n",
            "\n",
            "\n",
            "it is not the size of the ring , but the size of the love . \n",
            "\n",
            "\n",
            "sexy can really lead you in a small one . \n",
            "\n",
            "\n",
            "i'm not a big fan of talking about dying . and then i make a movie where i kill everybody . \n",
            "\n",
            "\n",
            "to be a success , follow your obsessions obsessively . \n",
            "\n",
            "\n",
            "if you want to be happy , be . \n",
            "\n",
            "\n",
            "my father was a man , and i know the sex pretty well . \n",
            "\n",
            "\n",
            "your life is a reflection of the quality of the questions you ask yourself and others . \n",
            "\n",
            "\n",
            "don't let the fear of failure keep you away from your destiny . \n",
            "\n",
            "\n",
            "and the king said unto him , why speakest thou any more of thy matters ? \n",
            "\n",
            "\n",
            "don't let the fear of failure keep you away from your destiny . \n",
            "\n",
            "\n",
            "ye shall not do after all the things that we do here this day , every man whatsoever is right in his own eyes ; \n",
            "\n",
            "\n",
            "never make a decision while in the state of anger . \n",
            "\n",
            "\n",
            "every man is a damn fool for at least five minutes every day wisdom consists in not exceeding the limit . \n",
            "\n",
            "\n",
            "those who are not shocked when they first come across quantum theory cannot possibly have understood it . \n",
            "\n",
            "\n",
            "everyone has a story to tell . everyone is a writer , some are written in the books and some are confined to hearts . \n",
            "\n",
            "\n",
            "it is not the size of the ring , but the size of the love . \n",
            "\n",
            "\n",
            "be a person who radiates the beauty of love to extinguish the fire of hatred . \n",
            "\n",
            "\n",
            "i have a very strong feeling that the opposite of love is not hate - it's apathy . it's not giving a damn . \n",
            "\n",
            "\n",
            "the only way to get the best out of the diminishing life is to invest it into the fulfilment of your purpose . \n",
            "\n",
            "\n",
            "the best way to remember your wife's birthday is to forget it once . \n",
            "\n",
            "\n",
            "it is not the size of the ring , but the size of the love . \n",
            "\n",
            "\n",
            "the only thing that makes life possible is permanent , intolerable uncertainty : not knowing what comes next . \n",
            "\n",
            "\n",
            "an artist is a dreamer consenting to dream of the actual world . \n",
            "\n",
            "\n",
            "it is not the size of the ring , but the size of the love . \n"
          ],
          "name": "stdout"
        }
      ]
    },
    {
      "cell_type": "code",
      "metadata": {
        "id": "ql5lXrplVrjK",
        "colab_type": "code",
        "outputId": "2df98a88-f0f9-4636-acce-c211a79aca3a",
        "colab": {
          "base_uri": "https://localhost:8080/",
          "height": 283
        }
      },
      "source": [
        "phrases = [\n",
        "            \"it's better to have more\",\n",
        "            \"man\",\n",
        "            \"intelligence\",\n",
        "            \"sounds are like\",\n",
        "            \"strength\",\n",
        "            \"be or not to be\",\n",
        "            \"how to convince someone\", \n",
        "            \"set of words\", \n",
        "            \"not a friend\",\n",
        "            \"how to act\", \n",
        "            \"character\",\n",
        "            \"rude\",\n",
        "            \"seriousness\",\n",
        "            \"wise man\",\n",
        "            \"wise\"\n",
        "          ]\n",
        "\n",
        "def end_phrase(phrase):\n",
        "    phrase = [\"BEGIN\"] + phrase.split(\" \")\n",
        "    phrase_tokens = []\n",
        "    hidden_h = tf.zeros((1, HIDDEN_SIZE), dtype = tf.float32)\n",
        "    hidden_c = tf.zeros((1, HIDDEN_SIZE), dtype = tf.float32)\n",
        "\n",
        "    for word in phrase:\n",
        "        phrase_tokens.append(word_dict[word])\n",
        "\n",
        "    total_output = phrase_tokens[1:]\n",
        "\n",
        "    for token in phrase_tokens:\n",
        "        current_emb = seq2seq.emb_layer(tf.convert_to_tensor([[token]], dtype = tf.float32))\n",
        "        current_output, hidden_h, hidden_c = seq2seq.generator(current_emb, [hidden_h, hidden_c])\n",
        "        current_distribution = seq2seq.interpreter(current_output)\n",
        "\n",
        "    generated_token = tf.argmax(current_distribution, axis = -1)\n",
        "    total_output.append(generated_token.numpy()[0,0])\n",
        "    current_emb = seq2seq.emb_layer(generated_token)\n",
        "    \n",
        "    for _ in range(30):\n",
        "        current_output, hidden_h, hidden_c = seq2seq.generator(current_emb, [hidden_h, hidden_c])\n",
        "        current_distribution = seq2seq.interpreter(current_output)\n",
        "        generated_token  = tf.argmax(current_distribution, axis = -1)\n",
        "        current_emb = seq2seq.emb_layer(generated_token)\n",
        "        \n",
        "        if not ( generated_token.numpy()[0,0] == 2 or generated_token.numpy()[0,0] == 0):\n",
        "            total_output.append(generated_token.numpy()[0,0])\n",
        "        else:\n",
        "            break\n",
        "    \n",
        "    output_phrase = \"\"\n",
        "\n",
        "    for token in total_output:\n",
        "        output_phrase += inverse_word_dict[token] + \" \"\n",
        "\n",
        "    print(output_phrase)\n",
        "\n",
        "\n",
        "for phrase in phrases:\n",
        "    end_phrase(phrase)\n",
        "\n",
        "\n",
        "\n",
        "\n",
        "\n",
        "\n"
      ],
      "execution_count": 0,
      "outputs": [
        {
          "output_type": "stream",
          "text": [
            "it's better to have more life than offer and clear when i write about ' and ' will , not even a few can afford to be ! \n",
            "man is a social animal . \n",
            "intelligence is the ability to adapt to change . \n",
            "sounds are like going ' in the end . \n",
            "strength is not determined by the looks , but action . \n",
            "be or not to be rich and believe in your ability to write them out loud and do the rest of your dreams . \n",
            "how to convince someone else ’ s name and what is ‘ matter with them ! \n",
            "set of words help but seek to manifest . \n",
            "not a friend goes by the justice industry . \n",
            "how to act : try to keep quiet . \n",
            "character is the ability to carry out a good resolution long after the excitement of the moment has passed . \n",
            "rude and wrong , it's right to be positive . \n",
            "seriousness is a series of which i even the young knows two thousand words , and that's now . \n",
            "wise man loses more than pleasure , for the best reason he is trying to make living choices . \n",
            "wise men speak because they have something to say \n"
          ],
          "name": "stdout"
        }
      ]
    },
    {
      "cell_type": "code",
      "metadata": {
        "id": "JUdRJpVqtU2X",
        "colab_type": "code",
        "colab": {}
      },
      "source": [
        "from google.colab import files\n",
        "import h5py\n",
        "import pickle\n",
        "\n",
        "weights = []\n",
        "weights.append(seq2seq.emb_layer.get_weights())\n",
        "weights.append(seq2seq.generator.get_weights())\n",
        "weights.append(seq2seq.interpreter.get_weights())\n",
        "\n",
        "def download_weights(weights):\n",
        "\n",
        "    weight_file_name = \"weights_wisebot_final3.\" +  \\\n",
        "                        str(MIN_QUOTE_LENGTH) + \".\" + \\\n",
        "                         str(MAX_QUOTE_LENGTH) + \".\" + \\\n",
        "                         str(MIN_TOKEN_FREQ) + \".h5\"\n",
        "\n",
        "    with h5py.File(weight_file_name, \"w\") as h5f:\n",
        "        i = 0\n",
        "        for weight in weights:\n",
        "            group = h5f.create_group(str(i))\n",
        "            i += 1\n",
        "            j = 0\n",
        "            for kernel in weight:\n",
        "                group.create_dataset(str(j), data=kernel)\n",
        "                j += 1\n",
        "                \n",
        "    h5f.close()\n",
        "    files.download(weight_file_name)\n",
        "\n",
        "\n",
        "\n",
        "words_file_name = \"words_wisebot_final3.\" +  \\\n",
        "                        str(MIN_QUOTE_LENGTH) + \".\" + \\\n",
        "                         str(MAX_QUOTE_LENGTH) + \".\" + \\\n",
        "                         str(MIN_TOKEN_FREQ) + \".dict\"\n",
        "\n",
        "with open(words_file_name, \"wb\") as dict_file:\n",
        "    pickle.dump(word_dict, dict_file)\n",
        "\n",
        "\n",
        "begin_tokens_file_name = \"begin_tokens.\" + str(MIN_QUOTE_LENGTH) + \".\" + \\\n",
        "                         str(MAX_QUOTE_LENGTH) + \".\" + \\\n",
        "                         str(MIN_TOKEN_FREQ) + \".arr\"\n",
        "\n",
        "with open(begin_tokens_file_name, \"wb\") as arr_file:\n",
        "    pickle.dump(begin_tokens, arr_file)\n",
        "\n",
        "download_weights(weights)\n",
        "files.download(begin_tokens_file_name)\n",
        "files.download(words_file_name)"
      ],
      "execution_count": 0,
      "outputs": []
    },
    {
      "cell_type": "markdown",
      "metadata": {
        "id": "Jus-Dsk7gjDK",
        "colab_type": "text"
      },
      "source": [
        "Code above was used to save trained LSTM cell and word dictionary, whach was used."
      ]
    }
  ]
}